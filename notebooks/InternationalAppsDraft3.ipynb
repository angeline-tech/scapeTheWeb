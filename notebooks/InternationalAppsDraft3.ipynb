{
 "cells": [
  {
   "cell_type": "code",
   "execution_count": 1,
   "metadata": {},
   "outputs": [],
   "source": [
    "import requests\n",
    "import lxml.html as lh\n",
    "import pandas as pd\n",
    "import re \n",
    "import csv"
   ]
  },
  {
   "cell_type": "code",
   "execution_count": 2,
   "metadata": {},
   "outputs": [],
   "source": [
    "def hasNational(text):\n",
    "    return \"Appearances and goals by national team and year\" in text or \"International\" in text\n",
    "\n",
    "def isNationalTable(table):\n",
    "    content = table.text_content()\n",
    "    return \"Year\" in content and \"Apps\" in content and \"Goals\" in content and \"Total\" in content\n",
    "\n",
    "def isTotalRow(row):\n",
    "    return len(row) ==3 and \"Total\" in row.text_content() and row[1].text_content().isnumeric()\n",
    "\n",
    "def getValue(rows):\n",
    "    row = rows[0]\n",
    "    return int(row[0].text_content())\n",
    "\n",
    "def fetchAppearances(doc):\n",
    "#     print('Inside Apps')\n",
    "    tables = doc.xpath('//table')\n",
    "#     print('Found ',len(tables),' Tables')\n",
    "    nationalTable = list(filter(lambda x: isNationalTable(x), tables))\n",
    "#     print('Found ',len(nationalTable),' National Tables')\n",
    "    if len(nationalTable) == 0:\n",
    "        return 0\n",
    "    rows = nationalTable[0].xpath('//tr')\n",
    "#     print('Found ',len(rows),' Rows')\n",
    "    totalRows = list(filter(lambda x: isTotalRow(x), rows))\n",
    "#     print('Found ',len(totalRows),' Total Tables')\n",
    "    if len(totalRows) == 1:\n",
    "        row = totalRows[0]\n",
    "        text = row[1].text_content()\n",
    "#         print(text)\n",
    "        return int(text)\n",
    "#     print('Blow Up 2')\n",
    "    return -1\n",
    "\n",
    "def getApps(url):\n",
    "    if url == \"ERROR: No Link\":\n",
    "        return 0\n",
    "    page = requests.get(url)\n",
    "    doc = lh.fromstring(page.content)\n",
    "    text = doc.text_content()\n",
    "#     print(url)\n",
    "    hasNationalTeam = hasNational(text)\n",
    "    if hasNationalTeam:\n",
    "#         print('Found National Team')\n",
    "        return fetchAppearances(doc)\n",
    "    else:\n",
    "        return 0"
   ]
  },
  {
   "cell_type": "code",
   "execution_count": 3,
   "metadata": {},
   "outputs": [],
   "source": [
    "def notAPhoto(x):\n",
    "    return \"upload\" not in x[2]\n",
    "\n",
    "def getWikiLink(cell):\n",
    "    allLinks = list(cell.iterlinks())\n",
    "    goodLinks = list(filter(lambda x: notAPhoto(x), allLinks))\n",
    "    if len(goodLinks)==0:\n",
    "        return \"ERROR: No Link\"\n",
    "    else:\n",
    "        return goodLinks[0][2].replace('/wiki/','')\n",
    "\n",
    "def getWikiString(string):\n",
    "    return string.replace('https://en.wikipedia.org/wiki/','')\n",
    "\n",
    "def getWikiDetails(cells):\n",
    "    player = cells[0]\n",
    "    country_cell = cells[1]\n",
    "    display_name = player.text_content()\n",
    "    return display_name, getWikiLink(player), getWikiLink(country_cell)\n",
    "\n",
    "def getFullWikiLink(cell):\n",
    "    allLinks = list(cell.iterlinks())\n",
    "    goodLinks = list(filter(lambda x: notAPhoto(x), allLinks))\n",
    "    if len(goodLinks)==0:\n",
    "        return \"ERROR: No Link\"\n",
    "    else:\n",
    "        return goodLinks[0][2].replace('/wiki/','https://en.wikipedia.org/wiki/')\n",
    "\n",
    "def getSquadUrl(url):\n",
    "    return 'https://en.wikipedia.org/wiki/2019-20_'+ url +'_season'"
   ]
  },
  {
   "cell_type": "code",
   "execution_count": 4,
   "metadata": {},
   "outputs": [],
   "source": [
    "def validPlayerRow(row):\n",
    "    skip = False\n",
    "    goodLength = len(row) in [12,13,14]\n",
    "    if goodLength:\n",
    "        name_cell = row[3]\n",
    "        nationality_cell = row[2]\n",
    "        text = name_cell.text_content().strip()\n",
    "        skip = text.isnumeric() or len(text) == 0 or text == 'Name'\n",
    "    return goodLength and not skip\n",
    "\n",
    "def getPlayers(league,country,teamName,url):\n",
    "    playerRows = []\n",
    "    page = requests.get(url)\n",
    "#     print('Getting Players for: ',teamName)\n",
    "    print(url)\n",
    "    doc = lh.fromstring(page.content)\n",
    "    allRows = list(doc.xpath('//tr'))\n",
    "    goodRows = list(filter(lambda x: validPlayerRow(x), allRows))\n",
    "    for row in goodRows:\n",
    "        playerName = row[3].text_content().strip()\n",
    "        wikiUrl = getFullWikiLink(row[3])\n",
    "        nationality = getWikiLink(row[2])\n",
    "#         print(playerName)\n",
    "        apps = getApps(wikiUrl)\n",
    "#         print((playerName,country,apps,wikiUrl))\n",
    "        playerRows.append((league,country,teamName,playerName,nationality,apps, wikiUrl))\n",
    "    print('Found ',len(playerRows),'Players for',teamName)\n",
    "#     return pd.DataFrame(playerRows, columns = ['league','country',team','name','country','apps', 'wiki'])\n",
    "    return playerRows"
   ]
  },
  {
   "cell_type": "code",
   "execution_count": 5,
   "metadata": {},
   "outputs": [],
   "source": [
    "def collapseDfs(arrayDf):\n",
    "    base = arrayDf[0]\n",
    "    arrayDf.pop(0)\n",
    "    length = len(arrayDf)\n",
    "    for i in range(length):\n",
    "        base = base.append(arrayDf[i])\n",
    "    return base\n",
    "\n",
    "def getTeams(url,league,country):\n",
    "#     outputData = pd.DataFrame([], columns = ['team','name','country','apps', 'wiki'])\n",
    "    outputData = []\n",
    "    page = requests.get(url)\n",
    "    doc = lh.fromstring(page.content)\n",
    "    rows = doc.xpath('//tr')\n",
    "    for row in rows:\n",
    "        if len(row) == 4:\n",
    "            cell = row[0]\n",
    "            teamName = cell.text_content().strip()\n",
    "            wiki = getWikiLink(cell)\n",
    "            skip = teamName == 'Team' or teamName == 'Rank' or teamName.isnumeric() or \"ERROR\" in wiki\n",
    "            if not skip:\n",
    "                print(len(outputData))\n",
    "                outputData = outputData + getPlayers(league,country,teamName,getSquadUrl(wiki))\n",
    "    return outputData"
   ]
  },
  {
   "cell_type": "code",
   "execution_count": 6,
   "metadata": {},
   "outputs": [
    {
     "name": "stdout",
     "output_type": "stream",
     "text": [
      "0\n",
      "Found  63 Players for Arsenal\n",
      "63\n",
      "Found  34 Players for Aston Villa\n",
      "97\n",
      "Found  30 Players for Bournemouth\n",
      "127\n",
      "Found  39 Players for Brighton & Hove Albion\n",
      "166\n",
      "Found  36 Players for Burnley\n",
      "202\n",
      "Found  1 Players for Chelsea\n",
      "203\n",
      "Found  27 Players for Crystal Palace\n",
      "230\n",
      "Found  28 Players for Everton\n",
      "258\n",
      "Found  38 Players for Leicester City\n",
      "296\n",
      "Found  1 Players for Liverpool\n",
      "297\n",
      "Found  0 Players for Manchester City\n",
      "297\n",
      "Found  3 Players for Manchester United\n",
      "300\n",
      "Found  32 Players for Newcastle United\n",
      "332\n",
      "Found  1 Players for Norwich City\n",
      "333\n",
      "Found  30 Players for Sheffield United\n",
      "363\n",
      "Found  14 Players for Southampton\n",
      "377\n",
      "Found  24 Players for Tottenham Hotspur\n",
      "401\n",
      "Found  38 Players for Watford\n",
      "439\n",
      "Found  30 Players for West Ham United\n",
      "469\n",
      "Found  0 Players for Wolverhampton Wanderers\n"
     ]
    }
   ],
   "source": [
    "teams = getTeams('https://en.wikipedia.org/wiki/2019%E2%80%9320_Premier_League','Premier League','England')"
   ]
  },
  {
   "cell_type": "markdown",
   "metadata": {},
   "source": [
    "Chelsea, Liverpool, Man City, Man UTD, Norwick Citym So"
   ]
  },
  {
   "cell_type": "code",
   "execution_count": 7,
   "metadata": {},
   "outputs": [
    {
     "name": "stdout",
     "output_type": "stream",
     "text": [
      "469\n"
     ]
    }
   ],
   "source": [
    "print(len(teams))"
   ]
  },
  {
   "cell_type": "code",
   "execution_count": 8,
   "metadata": {},
   "outputs": [
    {
     "name": "stdout",
     "output_type": "stream",
     "text": [
      "('Premier League', 'England', 'Arsenal', 'Bernd Leno', 'Germany', 8, 'https://en.wikipedia.org/wiki/Bernd_Leno')\n"
     ]
    }
   ],
   "source": [
    "dodgy Teams:\n",
    "    "
   ]
  },
  {
   "cell_type": "code",
   "execution_count": null,
   "metadata": {},
   "outputs": [],
   "source": []
  }
 ],
 "metadata": {
  "kernelspec": {
   "display_name": "Python 3",
   "language": "python",
   "name": "python3"
  },
  "language_info": {
   "codemirror_mode": {
    "name": "ipython",
    "version": 3
   },
   "file_extension": ".py",
   "mimetype": "text/x-python",
   "name": "python",
   "nbconvert_exporter": "python",
   "pygments_lexer": "ipython3",
   "version": "3.8.8"
  }
 },
 "nbformat": 4,
 "nbformat_minor": 4
}
