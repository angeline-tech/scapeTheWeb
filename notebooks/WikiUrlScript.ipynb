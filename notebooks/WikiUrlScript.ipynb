{
 "cells": [
  {
   "cell_type": "code",
   "execution_count": 1,
   "metadata": {},
   "outputs": [],
   "source": [
    "import requests\n",
    "import lxml.html as lh\n",
    "import pandas as pd\n",
    "import re \n",
    "\n",
    "def getNationalTeamTable(url):\n",
    "    page = requests.get(url)\n",
    "    doc = lh.fromstring(page.content)\n",
    "    tables = doc.xpath('//table')\n",
    "    for table in tables:\n",
    "        captions = table.xpath('//caption')\n",
    "        for caption in captions:\n",
    "            text = caption.text_content()\n",
    "            if \"Appearances and goals by national team and year\" in text:\n",
    "                return table\n",
    "\n",
    "def getAppsForPlayer(wiki_name):\n",
    "    url = 'https://en.wikipedia.org/wiki/'+wiki_name\n",
    "    table = getNationalTeamTable(url)\n",
    "    if table:\n",
    "        rows = table.xpath('//tr')\n",
    "        i=0\n",
    "        for row in rows:\n",
    "            i=i+1\n",
    "            if \"Total\" in row.text_content():\n",
    "                if len(row) == 3:\n",
    "                    total = row[1]\n",
    "                    return int(total.text_content()), url\n",
    "    return -1 ,url\n",
    "    \n",
    "def getPlayerRows(url):\n",
    "    playerRows = []\n",
    "    page = requests.get(url)\n",
    "    doc = lh.fromstring(page.content)\n",
    "    rows = doc.xpath('//tr')\n",
    "    for row in rows:\n",
    "        if len(row) == 12:\n",
    "            name_cell = row[3]\n",
    "            nationality_cell = row[2]\n",
    "            text = name_cell.text_content().strip()\n",
    "            skip = text.isnumeric() or len(text) == 0 or text == 'Name'\n",
    "            if not skip:\n",
    "                playerRows.append((name_cell,nationality_cell))\n",
    "    return playerRows\n",
    "    \n",
    "    \n",
    "def getWiki_Name(cell):\n",
    "    links = list(cell.iterlinks())\n",
    "    return links[0][2].replace('/wiki/','')\n",
    "    \n",
    "def get_country(cell):\n",
    "    links = list(cell.iterlinks())\n",
    "    return links[0][2].replace('/wiki/','')\n",
    "\n",
    "def getWikiDetails(cells):\n",
    "    player = cells[0]\n",
    "    country_cell = cells[1]\n",
    "    display_name = player.text_content()\n",
    "    return display_name, getWiki_Name(player), get_country(country_cell)\n",
    "\n",
    "def addPlayerApps(name_tuple):\n",
    "    display_name = name_tuple[0]\n",
    "    wiki_name = name_tuple[1]\n",
    "    country = name_tuple[2]\n",
    "    (apps,url) = getAppsForPlayer(wiki_name)\n",
    "    return display_name, wiki_name, country, apps, url\n",
    "\n",
    "\n",
    "def addPlayerApps(name_tuple):\n",
    "    display_name = name_tuple[0]\n",
    "    wiki_name = name_tuple[1]\n",
    "    country = name_tuple[2]\n",
    "    (apps,url) = getAppsForPlayer(wiki_name)\n",
    "    return display_name, wiki_name, country, apps, url\n",
    "\n",
    "def getAppearanceArray(url):\n",
    "    playerRows = getPlayerRows(url)\n",
    "    linksArray = [getWikiDetails(player) for player in playerRows]\n",
    "    appsArray = [addPlayerApps(names) for names in linksArray]\n",
    "    return appsArray\n",
    "\n"
   ]
  },
  {
   "cell_type": "code",
   "execution_count": 2,
   "metadata": {},
   "outputs": [
    {
     "name": "stderr",
     "output_type": "stream",
     "text": [
      "/Library/Frameworks/Python.framework/Versions/3.7/lib/python3.7/site-packages/ipykernel_launcher.py:20: FutureWarning: The behavior of this method will change in future versions. Use specific 'len(elem)' or 'elem is not None' test instead.\n"
     ]
    },
    {
     "name": "stdout",
     "output_type": "stream",
     "text": [
      "[('Bernd Leno', 'Bernd_Leno', 'Germany', 8, 'https://en.wikipedia.org/wiki/Bernd_Leno'), ('Héctor Bellerín', 'H%C3%A9ctor_Beller%C3%ADn', 'Spain', 4, 'https://en.wikipedia.org/wiki/H%C3%A9ctor_Beller%C3%ADn'), ('Kieran Tierney', 'Kieran_Tierney', 'Scotland', -1, 'https://en.wikipedia.org/wiki/Kieran_Tierney'), ('Mohamed Elneny', 'Mohamed_Elneny', 'Egypt', 79, 'https://en.wikipedia.org/wiki/Mohamed_Elneny'), ('Sokratis Papastathopoulos', 'Sokratis_Papastathopoulos', 'Greece', 90, 'https://en.wikipedia.org/wiki/Sokratis_Papastathopoulos'), ('Henrikh Mkhitaryan', 'Henrikh_Mkhitaryan', 'Armenia', 88, 'https://en.wikipedia.org/wiki/Henrikh_Mkhitaryan'), ('Dani Ceballos', 'Dani_Ceballos', 'Spain', 11, 'https://en.wikipedia.org/wiki/Dani_Ceballos'), ('Alexandre Lacazette', 'Alexandre_Lacazette', 'France', 16, 'https://en.wikipedia.org/wiki/Alexandre_Lacazette'), ('Mesut Özil', 'Mesut_%C3%96zil', 'Germany', 92, 'https://en.wikipedia.org/wiki/Mesut_%C3%96zil'), ('Lucas Torreira', 'Lucas_Torreira', 'Uruguay', -1, 'https://en.wikipedia.org/wiki/Lucas_Torreira'), ('Pierre-Emerick Aubameyang', 'Pierre-Emerick_Aubameyang', 'Gabon', 65, 'https://en.wikipedia.org/wiki/Pierre-Emerick_Aubameyang'), ('Ainsley Maitland-Niles', 'Ainsley_Maitland-Niles', 'England', 5, 'https://en.wikipedia.org/wiki/Ainsley_Maitland-Niles'), ('Rob Holding', 'Rob_Holding', 'England', -1, 'https://en.wikipedia.org/wiki/Rob_Holding'), ('Cédric Soares', 'C%C3%A9dric_Soares', 'Portugal', 33, 'https://en.wikipedia.org/wiki/C%C3%A9dric_Soares'), ('Nicolas Pépé', 'Nicolas_P%C3%A9p%C3%A9', 'Ivory_Coast', 24, 'https://en.wikipedia.org/wiki/Nicolas_P%C3%A9p%C3%A9'), ('Shkodran Mustafi', 'Shkodran_Mustafi', 'Germany', 20, 'https://en.wikipedia.org/wiki/Shkodran_Mustafi'), ('Calum Chambers', 'Calum_Chambers', 'England', 3, 'https://en.wikipedia.org/wiki/Calum_Chambers'), ('Pablo  Marí', 'Pablo_Mar%C3%AD', 'Spain', -1, 'https://en.wikipedia.org/wiki/Pablo_Mar%C3%AD'), ('David Luiz', 'David_Luiz', 'Brazil', 57, 'https://en.wikipedia.org/wiki/David_Luiz'), ('Reiss Nelson', 'Reiss_Nelson', 'England', -1, 'https://en.wikipedia.org/wiki/Reiss_Nelson'), ('Emiliano Martínez', 'Emiliano_Mart%C3%ADnez', 'Argentina', -1, 'https://en.wikipedia.org/wiki/Emiliano_Mart%C3%ADnez'), ('Konstantinos Mavropanos', 'Konstantinos_Mavropanos', 'Greece', -1, 'https://en.wikipedia.org/wiki/Konstantinos_Mavropanos'), ('Joe Willock', 'Joe_Willock', 'England', -1, 'https://en.wikipedia.org/wiki/Joe_Willock'), ('Matteo Guendouzi', 'Matteo_Guendouzi', 'France', -1, 'https://en.wikipedia.org/wiki/Matteo_Guendouzi'), ('Eddie Nketiah', 'Eddie_Nketiah', 'England', -1, 'https://en.wikipedia.org/wiki/Eddie_Nketiah'), ('Sead Kolašinac', 'Sead_Kola%C5%A1inac', 'Bosnia_and_Herzegovina', 35, 'https://en.wikipedia.org/wiki/Sead_Kola%C5%A1inac'), ('Emile Smith Rowe', 'Emile_Smith_Rowe', 'England', -1, 'https://en.wikipedia.org/wiki/Emile_Smith_Rowe'), ('Matt Macey', 'Matt_Macey', 'England', -1, 'https://en.wikipedia.org/wiki/Matt_Macey'), ('Granit Xhaka', 'Granit_Xhaka', 'Switzerland', 89, 'https://en.wikipedia.org/wiki/Granit_Xhaka'), ('Gabriel Martinelli', 'Gabriel_Martinelli', 'Brazil', -1, 'https://en.wikipedia.org/wiki/Gabriel_Martinelli'), ('Bukayo Saka', 'Bukayo_Saka', 'England', 4, 'https://en.wikipedia.org/wiki/Bukayo_Saka'), ('William Saliba', 'William_Saliba', 'France', -1, 'https://en.wikipedia.org/wiki/William_Saliba')]\n"
     ]
    }
   ],
   "source": [
    "url = 'https://en.wikipedia.org/wiki/2019%E2%80%9320_Arsenal_F.C._season'\n",
    "array = getAppearanceArray(url)\n",
    "print(array)"
   ]
  }
 ],
 "metadata": {
  "kernelspec": {
   "display_name": "Python 3",
   "language": "python",
   "name": "python3"
  },
  "language_info": {
   "codemirror_mode": {
    "name": "ipython",
    "version": 3
   },
   "file_extension": ".py",
   "mimetype": "text/x-python",
   "name": "python",
   "nbconvert_exporter": "python",
   "pygments_lexer": "ipython3",
   "version": "3.7.0"
  }
 },
 "nbformat": 4,
 "nbformat_minor": 4
}
